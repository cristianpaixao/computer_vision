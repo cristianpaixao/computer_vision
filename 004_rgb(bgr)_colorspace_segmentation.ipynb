{
 "nbformat": 4,
 "nbformat_minor": 2,
 "metadata": {
  "language_info": {
   "name": "python",
   "codemirror_mode": {
    "name": "ipython",
    "version": 3
   },
   "version": "3.7.4-final"
  },
  "orig_nbformat": 2,
  "file_extension": ".py",
  "mimetype": "text/x-python",
  "name": "python",
  "npconvert_exporter": "python",
  "pygments_lexer": "ipython3",
  "version": 3,
  "kernelspec": {
   "name": "python3",
   "display_name": "Python 3"
  }
 },
 "cells": [
  {
   "cell_type": "markdown",
   "metadata": {},
   "source": [
    "# RGB Colorspace segmentation\n",
    "Segmenting a picture in RGB(BGR) colospace"
   ]
  },
  {
   "cell_type": "code",
   "execution_count": 1,
   "metadata": {},
   "outputs": [],
   "source": [
    "import cv2"
   ]
  },
  {
   "cell_type": "code",
   "execution_count": 2,
   "metadata": {},
   "outputs": [],
   "source": [
    "# Loading RGB Image\n",
    "image = cv2.imread(\"./resources/fruits.jpg\")"
   ]
  },
  {
   "cell_type": "code",
   "execution_count": 3,
   "metadata": {},
   "outputs": [],
   "source": [
    "# Segmenting channels\n",
    "blue, green, red = cv2.split(image)"
   ]
  },
  {
   "cell_type": "code",
   "execution_count": 4,
   "metadata": {},
   "outputs": [],
   "source": [
    "# Showing splited channels image\n",
    "cv2.imshow(\"Red Channel\", red)\n",
    "cv2.imshow(\"Green Channel\", green)\n",
    "cv2.imshow(\"Blue Channel\", blue)\n",
    "\n",
    "# Saving channel image separately\n",
    "cv2.imwrite(\"./output/segmented_red_output.jpeg\", red)\n",
    "cv2.imwrite(\"./output/segmented_green_output.jpeg\", green)\n",
    "cv2.imwrite(\"./output/segmented_blue_output.jpeg\", blue)\n",
    "\n",
    "cv2.waitKey(0)\n",
    "cv2.destroyAllWindows()\n",
    "\n"
   ]
  },
  {
   "cell_type": "markdown",
   "metadata": {},
   "source": [
    "## Matching a RGB image channels"
   ]
  },
  {
   "cell_type": "code",
   "execution_count": 6,
   "metadata": {},
   "outputs": [],
   "source": [
    "matched_image = cv2.merge((blue, green, red))\n",
    "cv2.imshow(\"Result\", matched_image)\n",
    "\n",
    "cv2.waitKey(0)\n",
    "cv2.destroyAllWindows()"
   ]
  },
  {
   "cell_type": "markdown",
   "metadata": {},
   "source": [
    "## Converting image to grayscale"
   ]
  },
  {
   "cell_type": "code",
   "execution_count": 7,
   "metadata": {},
   "outputs": [],
   "source": [
    "# Reimporting image\n",
    "image = cv2.imread(\"./resources/fruits.jpg\")"
   ]
  },
  {
   "cell_type": "code",
   "execution_count": 8,
   "metadata": {},
   "outputs": [],
   "source": [
    "# Converting to grayscale\n",
    "grayscale_image = cv2.cvtColor(image, cv2.COLOR_RGB2GRAY)\n",
    "\n",
    "# Showing image\n",
    "cv2.imshow(\"Result in grayscale\", grayscale_image)\n",
    "\n",
    "cv2.waitKey(0)\n",
    "cv2.destroyAllWindows()"
   ]
  }
 ]
}